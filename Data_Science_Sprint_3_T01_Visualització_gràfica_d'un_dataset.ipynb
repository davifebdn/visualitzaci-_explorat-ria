{
  "nbformat": 4,
  "nbformat_minor": 0,
  "metadata": {
    "colab": {
      "name": "Data Science - Sprint 3. T01 - Visualització gràfica d'un dataset.ipynb",
      "provenance": [],
      "authorship_tag": "ABX9TyPi6bkViPJ3XzgLKLE+/44o",
      "include_colab_link": true
    },
    "kernelspec": {
      "name": "python3",
      "display_name": "Python 3"
    },
    "language_info": {
      "name": "python"
    }
  },
  "cells": [
    {
      "cell_type": "markdown",
      "metadata": {
        "id": "view-in-github",
        "colab_type": "text"
      },
      "source": [
        "<a href=\"https://colab.research.google.com/github/davifebdn/visualitzacio_exploratoria/blob/main/Data_Science_Sprint_3_T01_Visualitzaci%C3%B3_gr%C3%A0fica_d'un_dataset.ipynb\" target=\"_parent\"><img src=\"https://colab.research.google.com/assets/colab-badge.svg\" alt=\"Open In Colab\"/></a>"
      ]
    },
    {
      "cell_type": "markdown",
      "source": [
        "# S03 T01: Visualització gràfica d'un dataset\n",
        "Complementa les tècniques d'exploració de les dades mitjantçant la visualització gràfica, amb les llibreries Matplotlib i Searborn. "
      ],
      "metadata": {
        "id": "exRSwSxXN1Tg"
      }
    },
    {
      "cell_type": "markdown",
      "source": [
        "## Nivell 1"
      ],
      "metadata": {
        "id": "ldS6YHD3OGDY"
      }
    },
    {
      "cell_type": "markdown",
      "source": [
        "### Exercici 1\n",
        "\n",
        "Resumeix gràficament el data set DelayedFlights.csv\n",
        "\n",
        "Crea almenys una visualització per:\n",
        "\n",
        "*    Una variable categòrica (UniqueCarrier)\n",
        "*    Una variable numèrica (ArrDelay)\n",
        "*    Una variable numèrica i una categòrica (ArrDelay i UniqueCarrier)\n",
        "*    Dues variables numèriques (ArrDelay i DepDelay)\n",
        "*    Tres variables (ArrDelay, DepDelay i UniqueCarrier)\n",
        "*    Més de tres variables (ArrDelay, DepDelay, AirTime i UniqueCarrier).\n",
        "\n",
        "\n",
        "\n"
      ],
      "metadata": {
        "id": "b_75HAShOL-f"
      }
    },
    {
      "cell_type": "code",
      "source": [
        ""
      ],
      "metadata": {
        "id": "H1PX69LKPQnQ"
      },
      "execution_count": null,
      "outputs": []
    }
  ]
}